{
 "cells": [
  {
   "cell_type": "markdown",
   "id": "fdac0d61-6e84-49c4-a25b-2e66dc1a682e",
   "metadata": {},
   "source": [
    "# Back to the Basics\n",
    "Learn Neural Networks by implementing the most basic operations"
   ]
  },
  {
   "cell_type": "code",
   "execution_count": 116,
   "id": "ee03ffdd-aac1-400c-a7a9-81f0ad809141",
   "metadata": {},
   "outputs": [],
   "source": [
    "import torch\n",
    "import torch.nn as nn\n",
    "import torch.nn.functional as F"
   ]
  },
  {
   "cell_type": "markdown",
   "id": "0124b072-3703-458b-8c02-a4cd45884ee2",
   "metadata": {},
   "source": [
    "## OR\n",
    "### Generate Training Data"
   ]
  },
  {
   "cell_type": "code",
   "execution_count": 320,
   "id": "2c98bf0b-36ad-4e37-b945-3ccf48d9f4e5",
   "metadata": {},
   "outputs": [
    {
     "ename": "TypeError",
     "evalue": "ones() received an invalid combination of arguments - got (), but expected one of:\n * (tuple of ints size, *, tuple of names names, torch.dtype dtype, torch.layout layout, torch.device device, bool pin_memory, bool requires_grad)\n * (tuple of ints size, *, Tensor out, torch.dtype dtype, torch.layout layout, torch.device device, bool pin_memory, bool requires_grad)\n",
     "output_type": "error",
     "traceback": [
      "\u001b[0;31m---------------------------------------------------------------------------\u001b[0m",
      "\u001b[0;31mTypeError\u001b[0m                                 Traceback (most recent call last)",
      "Cell \u001b[0;32mIn[320], line 2\u001b[0m\n\u001b[1;32m      1\u001b[0m x \u001b[38;5;241m=\u001b[39m torch\u001b[38;5;241m.\u001b[39mrandint(\u001b[38;5;241m16\u001b[39m, (\u001b[38;5;241m1024\u001b[39m, \u001b[38;5;241m1\u001b[39m))\u001b[38;5;241m.\u001b[39mrepeat(\u001b[38;5;241m1\u001b[39m, \u001b[38;5;241m4\u001b[39m)\n\u001b[0;32m----> 2\u001b[0m mask \u001b[38;5;241m=\u001b[39m \u001b[43mtorch\u001b[49m\u001b[38;5;241;43m.\u001b[39;49m\u001b[43mones\u001b[49m\u001b[43m(\u001b[49m\u001b[43m)\u001b[49m \u001b[38;5;241m*\u001b[39m \u001b[38;5;241m8\u001b[39m\n\u001b[1;32m      3\u001b[0m x\u001b[38;5;241m.\u001b[39mshape, mask\u001b[38;5;241m.\u001b[39mshape\n",
      "\u001b[0;31mTypeError\u001b[0m: ones() received an invalid combination of arguments - got (), but expected one of:\n * (tuple of ints size, *, tuple of names names, torch.dtype dtype, torch.layout layout, torch.device device, bool pin_memory, bool requires_grad)\n * (tuple of ints size, *, Tensor out, torch.dtype dtype, torch.layout layout, torch.device device, bool pin_memory, bool requires_grad)\n"
     ]
    }
   ],
   "source": [
    "x1 = (torch.ones(16, 16) * torch.arange(16)).type(torch.int8)\n",
    "x2 = x1.clone().T\n",
    "x = torch.stack((x1, x2)).transpose(0, 2).flatten(0, 1)\n",
    "x.shape "
   ]
  },
  {
   "cell_type": "code",
   "execution_count": 211,
   "id": "ffee3889-e040-458c-ba3a-4c2456383fb4",
   "metadata": {},
   "outputs": [
    {
     "data": {
      "text/plain": [
       "torch.Size([256, 1])"
      ]
     },
     "execution_count": 211,
     "metadata": {},
     "output_type": "execute_result"
    }
   ],
   "source": [
    "y = torch.bitwise_or(x[:, 0], x[:, 1]).unsqueeze(-1)\n",
    "y.shape"
   ]
  },
  {
   "cell_type": "markdown",
   "id": "6f016ca8-2506-43f7-a96b-8887356ed681",
   "metadata": {},
   "source": [
    "#### For viewing pleasure"
   ]
  },
  {
   "cell_type": "code",
   "execution_count": 226,
   "id": "c530a0aa-775c-43eb-a2f1-3aed719fe7ea",
   "metadata": {},
   "outputs": [
    {
     "data": {
      "text/plain": [
       "tensor([[[ 0,  0,  0,  0,  0,  0,  0,  0,  0,  0,  0,  0,  0,  0,  0,  0],\n",
       "         [ 0,  1,  2,  3,  4,  5,  6,  7,  8,  9, 10, 11, 12, 13, 14, 15],\n",
       "         [ 0,  1,  2,  3,  4,  5,  6,  7,  8,  9, 10, 11, 12, 13, 14, 15]],\n",
       "\n",
       "        [[ 1,  1,  1,  1,  1,  1,  1,  1,  1,  1,  1,  1,  1,  1,  1,  1],\n",
       "         [ 0,  1,  2,  3,  4,  5,  6,  7,  8,  9, 10, 11, 12, 13, 14, 15],\n",
       "         [ 1,  1,  3,  3,  5,  5,  7,  7,  9,  9, 11, 11, 13, 13, 15, 15]],\n",
       "\n",
       "        [[ 2,  2,  2,  2,  2,  2,  2,  2,  2,  2,  2,  2,  2,  2,  2,  2],\n",
       "         [ 0,  1,  2,  3,  4,  5,  6,  7,  8,  9, 10, 11, 12, 13, 14, 15],\n",
       "         [ 2,  3,  2,  3,  6,  7,  6,  7, 10, 11, 10, 11, 14, 15, 14, 15]],\n",
       "\n",
       "        [[ 3,  3,  3,  3,  3,  3,  3,  3,  3,  3,  3,  3,  3,  3,  3,  3],\n",
       "         [ 0,  1,  2,  3,  4,  5,  6,  7,  8,  9, 10, 11, 12, 13, 14, 15],\n",
       "         [ 3,  3,  3,  3,  7,  7,  7,  7, 11, 11, 11, 11, 15, 15, 15, 15]],\n",
       "\n",
       "        [[ 4,  4,  4,  4,  4,  4,  4,  4,  4,  4,  4,  4,  4,  4,  4,  4],\n",
       "         [ 0,  1,  2,  3,  4,  5,  6,  7,  8,  9, 10, 11, 12, 13, 14, 15],\n",
       "         [ 4,  5,  6,  7,  4,  5,  6,  7, 12, 13, 14, 15, 12, 13, 14, 15]],\n",
       "\n",
       "        [[ 5,  5,  5,  5,  5,  5,  5,  5,  5,  5,  5,  5,  5,  5,  5,  5],\n",
       "         [ 0,  1,  2,  3,  4,  5,  6,  7,  8,  9, 10, 11, 12, 13, 14, 15],\n",
       "         [ 5,  5,  7,  7,  5,  5,  7,  7, 13, 13, 15, 15, 13, 13, 15, 15]],\n",
       "\n",
       "        [[ 6,  6,  6,  6,  6,  6,  6,  6,  6,  6,  6,  6,  6,  6,  6,  6],\n",
       "         [ 0,  1,  2,  3,  4,  5,  6,  7,  8,  9, 10, 11, 12, 13, 14, 15],\n",
       "         [ 6,  7,  6,  7,  6,  7,  6,  7, 14, 15, 14, 15, 14, 15, 14, 15]],\n",
       "\n",
       "        [[ 7,  7,  7,  7,  7,  7,  7,  7,  7,  7,  7,  7,  7,  7,  7,  7],\n",
       "         [ 0,  1,  2,  3,  4,  5,  6,  7,  8,  9, 10, 11, 12, 13, 14, 15],\n",
       "         [ 7,  7,  7,  7,  7,  7,  7,  7, 15, 15, 15, 15, 15, 15, 15, 15]],\n",
       "\n",
       "        [[ 8,  8,  8,  8,  8,  8,  8,  8,  8,  8,  8,  8,  8,  8,  8,  8],\n",
       "         [ 0,  1,  2,  3,  4,  5,  6,  7,  8,  9, 10, 11, 12, 13, 14, 15],\n",
       "         [ 8,  9, 10, 11, 12, 13, 14, 15,  8,  9, 10, 11, 12, 13, 14, 15]],\n",
       "\n",
       "        [[ 9,  9,  9,  9,  9,  9,  9,  9,  9,  9,  9,  9,  9,  9,  9,  9],\n",
       "         [ 0,  1,  2,  3,  4,  5,  6,  7,  8,  9, 10, 11, 12, 13, 14, 15],\n",
       "         [ 9,  9, 11, 11, 13, 13, 15, 15,  9,  9, 11, 11, 13, 13, 15, 15]],\n",
       "\n",
       "        [[10, 10, 10, 10, 10, 10, 10, 10, 10, 10, 10, 10, 10, 10, 10, 10],\n",
       "         [ 0,  1,  2,  3,  4,  5,  6,  7,  8,  9, 10, 11, 12, 13, 14, 15],\n",
       "         [10, 11, 10, 11, 14, 15, 14, 15, 10, 11, 10, 11, 14, 15, 14, 15]],\n",
       "\n",
       "        [[11, 11, 11, 11, 11, 11, 11, 11, 11, 11, 11, 11, 11, 11, 11, 11],\n",
       "         [ 0,  1,  2,  3,  4,  5,  6,  7,  8,  9, 10, 11, 12, 13, 14, 15],\n",
       "         [11, 11, 11, 11, 15, 15, 15, 15, 11, 11, 11, 11, 15, 15, 15, 15]],\n",
       "\n",
       "        [[12, 12, 12, 12, 12, 12, 12, 12, 12, 12, 12, 12, 12, 12, 12, 12],\n",
       "         [ 0,  1,  2,  3,  4,  5,  6,  7,  8,  9, 10, 11, 12, 13, 14, 15],\n",
       "         [12, 13, 14, 15, 12, 13, 14, 15, 12, 13, 14, 15, 12, 13, 14, 15]],\n",
       "\n",
       "        [[13, 13, 13, 13, 13, 13, 13, 13, 13, 13, 13, 13, 13, 13, 13, 13],\n",
       "         [ 0,  1,  2,  3,  4,  5,  6,  7,  8,  9, 10, 11, 12, 13, 14, 15],\n",
       "         [13, 13, 15, 15, 13, 13, 15, 15, 13, 13, 15, 15, 13, 13, 15, 15]],\n",
       "\n",
       "        [[14, 14, 14, 14, 14, 14, 14, 14, 14, 14, 14, 14, 14, 14, 14, 14],\n",
       "         [ 0,  1,  2,  3,  4,  5,  6,  7,  8,  9, 10, 11, 12, 13, 14, 15],\n",
       "         [14, 15, 14, 15, 14, 15, 14, 15, 14, 15, 14, 15, 14, 15, 14, 15]],\n",
       "\n",
       "        [[15, 15, 15, 15, 15, 15, 15, 15, 15, 15, 15, 15, 15, 15, 15, 15],\n",
       "         [ 0,  1,  2,  3,  4,  5,  6,  7,  8,  9, 10, 11, 12, 13, 14, 15],\n",
       "         [15, 15, 15, 15, 15, 15, 15, 15, 15, 15, 15, 15, 15, 15, 15, 15]]],\n",
       "       dtype=torch.int8)"
      ]
     },
     "execution_count": 226,
     "metadata": {},
     "output_type": "execute_result"
    }
   ],
   "source": [
    "torch.cat((x.T, y.T)).view(3, 16, 16).transpose(0, 1)"
   ]
  },
  {
   "cell_type": "markdown",
   "id": "89f2edfe-3384-4962-87cc-c9369872d953",
   "metadata": {},
   "source": [
    "### Prepare Training Data"
   ]
  },
  {
   "cell_type": "code",
   "execution_count": 276,
   "id": "0141f492-54da-48d6-baa8-6d5e9d30d674",
   "metadata": {},
   "outputs": [
    {
     "name": "stdout",
     "output_type": "stream",
     "text": [
      "Xtr:  torch.Size([256, 2]) torch.float32\n",
      "Ytr:  torch.Size([256, 1]) torch.float32\n"
     ]
    }
   ],
   "source": [
    "Xtr = x.float()\n",
    "Ytr = y.float()\n",
    "\n",
    "print(\"Xtr: \", Xtr.shape, Xtr.dtype)\n",
    "print(\"Ytr: \", Ytr.shape, Ytr.dtype)\n"
   ]
  },
  {
   "cell_type": "markdown",
   "id": "e51130e4-fa68-4a91-a11c-d16dc643053c",
   "metadata": {},
   "source": [
    "#### Initialize Neural Net"
   ]
  },
  {
   "cell_type": "code",
   "execution_count": 303,
   "id": "d5298076-ebe6-4469-a928-1515b42da0e2",
   "metadata": {},
   "outputs": [],
   "source": [
    "model = nn.Linear(8, 4)\n",
    "optim = torch.optim.SGD(model.parameters())\n",
    "lossf = nn.CrossEntropyLoss()"
   ]
  },
  {
   "cell_type": "markdown",
   "id": "69d04aba-aa1d-468c-ac67-6feb8e661c1d",
   "metadata": {},
   "source": [
    "### Train"
   ]
  },
  {
   "cell_type": "code",
   "execution_count": 308,
   "id": "4e03dd00-1ce5-46bd-94dc-276abfb73ba4",
   "metadata": {},
   "outputs": [
    {
     "name": "stdout",
     "output_type": "stream",
     "text": [
      "loss: tensor(-0., grad_fn=<DivBackward1>)\n"
     ]
    }
   ],
   "source": [
    "logits = model(Xtr)\n",
    "loss = lossf(logits, Ytr)\n",
    "print(\"loss:\", loss)\n",
    "optim.zero_grad()\n",
    "loss.backward()\n",
    "optim.step()"
   ]
  },
  {
   "cell_type": "code",
   "execution_count": 307,
   "id": "ddffeabd-749b-40a7-9a77-708a807956b2",
   "metadata": {},
   "outputs": [
    {
     "data": {
      "text/plain": [
       "tensor([[ 0.3945],\n",
       "        [ 0.5749],\n",
       "        [ 0.7553],\n",
       "        [ 0.9357],\n",
       "        [ 1.1161],\n",
       "        [ 1.2965],\n",
       "        [ 1.4769],\n",
       "        [ 1.6573],\n",
       "        [ 1.8377],\n",
       "        [ 2.0181],\n",
       "        [ 2.1985],\n",
       "        [ 2.3789],\n",
       "        [ 2.5593],\n",
       "        [ 2.7397],\n",
       "        [ 2.9201],\n",
       "        [ 3.1005],\n",
       "        [ 0.1469],\n",
       "        [ 0.3273],\n",
       "        [ 0.5077],\n",
       "        [ 0.6881],\n",
       "        [ 0.8685],\n",
       "        [ 1.0489],\n",
       "        [ 1.2293],\n",
       "        [ 1.4097],\n",
       "        [ 1.5901],\n",
       "        [ 1.7705],\n",
       "        [ 1.9509],\n",
       "        [ 2.1313],\n",
       "        [ 2.3117],\n",
       "        [ 2.4921],\n",
       "        [ 2.6725],\n",
       "        [ 2.8529],\n",
       "        [-0.1007],\n",
       "        [ 0.0797],\n",
       "        [ 0.2601],\n",
       "        [ 0.4405],\n",
       "        [ 0.6209],\n",
       "        [ 0.8013],\n",
       "        [ 0.9817],\n",
       "        [ 1.1621],\n",
       "        [ 1.3425],\n",
       "        [ 1.5229],\n",
       "        [ 1.7033],\n",
       "        [ 1.8837],\n",
       "        [ 2.0641],\n",
       "        [ 2.2445],\n",
       "        [ 2.4249],\n",
       "        [ 2.6053],\n",
       "        [-0.3483],\n",
       "        [-0.1679],\n",
       "        [ 0.0125],\n",
       "        [ 0.1929],\n",
       "        [ 0.3733],\n",
       "        [ 0.5537],\n",
       "        [ 0.7341],\n",
       "        [ 0.9145],\n",
       "        [ 1.0949],\n",
       "        [ 1.2753],\n",
       "        [ 1.4557],\n",
       "        [ 1.6361],\n",
       "        [ 1.8165],\n",
       "        [ 1.9969],\n",
       "        [ 2.1773],\n",
       "        [ 2.3577],\n",
       "        [-0.5959],\n",
       "        [-0.4155],\n",
       "        [-0.2351],\n",
       "        [-0.0547],\n",
       "        [ 0.1257],\n",
       "        [ 0.3061],\n",
       "        [ 0.4865],\n",
       "        [ 0.6669],\n",
       "        [ 0.8473],\n",
       "        [ 1.0277],\n",
       "        [ 1.2081],\n",
       "        [ 1.3885],\n",
       "        [ 1.5689],\n",
       "        [ 1.7493],\n",
       "        [ 1.9297],\n",
       "        [ 2.1101],\n",
       "        [-0.8435],\n",
       "        [-0.6631],\n",
       "        [-0.4827],\n",
       "        [-0.3023],\n",
       "        [-0.1219],\n",
       "        [ 0.0585],\n",
       "        [ 0.2389],\n",
       "        [ 0.4193],\n",
       "        [ 0.5997],\n",
       "        [ 0.7801],\n",
       "        [ 0.9605],\n",
       "        [ 1.1409],\n",
       "        [ 1.3213],\n",
       "        [ 1.5017],\n",
       "        [ 1.6821],\n",
       "        [ 1.8625],\n",
       "        [-1.0911],\n",
       "        [-0.9107],\n",
       "        [-0.7303],\n",
       "        [-0.5499],\n",
       "        [-0.3695],\n",
       "        [-0.1891],\n",
       "        [-0.0087],\n",
       "        [ 0.1717],\n",
       "        [ 0.3521],\n",
       "        [ 0.5325],\n",
       "        [ 0.7129],\n",
       "        [ 0.8933],\n",
       "        [ 1.0737],\n",
       "        [ 1.2541],\n",
       "        [ 1.4345],\n",
       "        [ 1.6149],\n",
       "        [-1.3387],\n",
       "        [-1.1583],\n",
       "        [-0.9779],\n",
       "        [-0.7975],\n",
       "        [-0.6171],\n",
       "        [-0.4367],\n",
       "        [-0.2563],\n",
       "        [-0.0759],\n",
       "        [ 0.1045],\n",
       "        [ 0.2849],\n",
       "        [ 0.4653],\n",
       "        [ 0.6457],\n",
       "        [ 0.8261],\n",
       "        [ 1.0065],\n",
       "        [ 1.1869],\n",
       "        [ 1.3673],\n",
       "        [-1.5863],\n",
       "        [-1.4059],\n",
       "        [-1.2255],\n",
       "        [-1.0451],\n",
       "        [-0.8647],\n",
       "        [-0.6843],\n",
       "        [-0.5039],\n",
       "        [-0.3235],\n",
       "        [-0.1431],\n",
       "        [ 0.0373],\n",
       "        [ 0.2177],\n",
       "        [ 0.3981],\n",
       "        [ 0.5785],\n",
       "        [ 0.7589],\n",
       "        [ 0.9393],\n",
       "        [ 1.1197],\n",
       "        [-1.8339],\n",
       "        [-1.6535],\n",
       "        [-1.4731],\n",
       "        [-1.2927],\n",
       "        [-1.1123],\n",
       "        [-0.9319],\n",
       "        [-0.7515],\n",
       "        [-0.5711],\n",
       "        [-0.3907],\n",
       "        [-0.2103],\n",
       "        [-0.0299],\n",
       "        [ 0.1505],\n",
       "        [ 0.3309],\n",
       "        [ 0.5113],\n",
       "        [ 0.6917],\n",
       "        [ 0.8721],\n",
       "        [-2.0815],\n",
       "        [-1.9011],\n",
       "        [-1.7207],\n",
       "        [-1.5403],\n",
       "        [-1.3599],\n",
       "        [-1.1795],\n",
       "        [-0.9991],\n",
       "        [-0.8187],\n",
       "        [-0.6383],\n",
       "        [-0.4579],\n",
       "        [-0.2775],\n",
       "        [-0.0971],\n",
       "        [ 0.0833],\n",
       "        [ 0.2637],\n",
       "        [ 0.4441],\n",
       "        [ 0.6245],\n",
       "        [-2.3291],\n",
       "        [-2.1487],\n",
       "        [-1.9683],\n",
       "        [-1.7879],\n",
       "        [-1.6075],\n",
       "        [-1.4271],\n",
       "        [-1.2467],\n",
       "        [-1.0663],\n",
       "        [-0.8859],\n",
       "        [-0.7055],\n",
       "        [-0.5251],\n",
       "        [-0.3447],\n",
       "        [-0.1643],\n",
       "        [ 0.0161],\n",
       "        [ 0.1965],\n",
       "        [ 0.3769],\n",
       "        [-2.5767],\n",
       "        [-2.3963],\n",
       "        [-2.2159],\n",
       "        [-2.0355],\n",
       "        [-1.8551],\n",
       "        [-1.6747],\n",
       "        [-1.4943],\n",
       "        [-1.3139],\n",
       "        [-1.1335],\n",
       "        [-0.9531],\n",
       "        [-0.7727],\n",
       "        [-0.5923],\n",
       "        [-0.4119],\n",
       "        [-0.2315],\n",
       "        [-0.0511],\n",
       "        [ 0.1293],\n",
       "        [-2.8243],\n",
       "        [-2.6439],\n",
       "        [-2.4635],\n",
       "        [-2.2831],\n",
       "        [-2.1027],\n",
       "        [-1.9223],\n",
       "        [-1.7419],\n",
       "        [-1.5615],\n",
       "        [-1.3811],\n",
       "        [-1.2007],\n",
       "        [-1.0203],\n",
       "        [-0.8399],\n",
       "        [-0.6595],\n",
       "        [-0.4791],\n",
       "        [-0.2987],\n",
       "        [-0.1183],\n",
       "        [-3.0719],\n",
       "        [-2.8915],\n",
       "        [-2.7111],\n",
       "        [-2.5307],\n",
       "        [-2.3503],\n",
       "        [-2.1699],\n",
       "        [-1.9895],\n",
       "        [-1.8091],\n",
       "        [-1.6287],\n",
       "        [-1.4483],\n",
       "        [-1.2679],\n",
       "        [-1.0875],\n",
       "        [-0.9071],\n",
       "        [-0.7267],\n",
       "        [-0.5463],\n",
       "        [-0.3659],\n",
       "        [-3.3195],\n",
       "        [-3.1391],\n",
       "        [-2.9587],\n",
       "        [-2.7783],\n",
       "        [-2.5979],\n",
       "        [-2.4175],\n",
       "        [-2.2371],\n",
       "        [-2.0567],\n",
       "        [-1.8763],\n",
       "        [-1.6959],\n",
       "        [-1.5155],\n",
       "        [-1.3351],\n",
       "        [-1.1547],\n",
       "        [-0.9743],\n",
       "        [-0.7939],\n",
       "        [-0.6135]], grad_fn=<AddmmBackward0>)"
      ]
     },
     "execution_count": 307,
     "metadata": {},
     "output_type": "execute_result"
    }
   ],
   "source": [
    "logits"
   ]
  },
  {
   "cell_type": "code",
   "execution_count": 305,
   "id": "cd4a7883-6394-4cd8-8a83-ee3350e809b2",
   "metadata": {},
   "outputs": [
    {
     "name": "stdout",
     "output_type": "stream",
     "text": [
      "tensor([[-0.2476,  0.1804]]) tensor([[0., 0.]])\n",
      "tensor([0.3945]) tensor([0.])\n"
     ]
    }
   ],
   "source": [
    "for p in model.parameters():\n",
    "    print(p.data, p.grad)"
   ]
  },
  {
   "cell_type": "code",
   "execution_count": 136,
   "id": "9337e9c9-0ddf-48b1-887d-a658675ca693",
   "metadata": {},
   "outputs": [
    {
     "data": {
      "text/plain": [
       "<generator object Module.parameters at 0x7a1f52de5310>"
      ]
     },
     "execution_count": 136,
     "metadata": {},
     "output_type": "execute_result"
    }
   ],
   "source": []
  },
  {
   "cell_type": "code",
   "execution_count": 113,
   "id": "95e532d6-d9c2-4284-bf2f-787d7d0059eb",
   "metadata": {},
   "outputs": [
    {
     "data": {
      "text/plain": [
       "[Parameter containing:\n",
       " tensor([[-0.6536,  0.2446]], requires_grad=True),\n",
       " Parameter containing:\n",
       " tensor([0.1718], requires_grad=True)]"
      ]
     },
     "execution_count": 113,
     "metadata": {},
     "output_type": "execute_result"
    }
   ],
   "source": [
    "list(params)"
   ]
  },
  {
   "cell_type": "code",
   "execution_count": null,
   "id": "2c3f0737-05d2-462e-a875-326782f0fb08",
   "metadata": {},
   "outputs": [],
   "source": []
  }
 ],
 "metadata": {
  "kernelspec": {
   "display_name": "code-venv",
   "language": "python",
   "name": "code-venv"
  },
  "language_info": {
   "codemirror_mode": {
    "name": "ipython",
    "version": 3
   },
   "file_extension": ".py",
   "mimetype": "text/x-python",
   "name": "python",
   "nbconvert_exporter": "python",
   "pygments_lexer": "ipython3",
   "version": "3.10.12"
  }
 },
 "nbformat": 4,
 "nbformat_minor": 5
}
